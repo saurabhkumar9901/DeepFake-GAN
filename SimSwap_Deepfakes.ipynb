{
  "cells": [
    {
      "cell_type": "markdown",
      "metadata": {
        "id": "VDJvpBFy0NfV"
      },
      "source": [
        "## Face swap - GAN\n",
        "\n",
        "Paper [SimSwap: An Efficient Framework For High Fidelity Face Swapping](https://arxiv.org/pdf/2106.06340v1.pdf)"
      ]
    },
    {
      "cell_type": "markdown",
      "metadata": {
        "id": "td8CbGPG2YQA"
      },
      "source": [
        "## Installing and importing"
      ]
    },
    {
      "cell_type": "code",
      "execution_count": 1,
      "metadata": {
        "colab": {
          "base_uri": "https://localhost:8080/",
          "height": 444
        },
        "id": "fZQp9jr4vq9l",
        "outputId": "19a0a474-42f5-423d-e97d-6a0833a51f2a"
      },
      "outputs": [
        {
          "name": "stdout",
          "output_type": "stream",
          "text": [
            "Collecting numpy==1.23.5\n",
            "  Downloading numpy-1.23.5-cp310-cp310-manylinux_2_17_x86_64.manylinux2014_x86_64.whl.metadata (2.3 kB)\n",
            "Downloading numpy-1.23.5-cp310-cp310-manylinux_2_17_x86_64.manylinux2014_x86_64.whl (17.1 MB)\n",
            "\u001b[2K   \u001b[90m━━━━━━━━━━━━━━━━━━━━━━━━━━━━━━━━━━━━━━━━\u001b[0m \u001b[32m17.1/17.1 MB\u001b[0m \u001b[31m64.3 MB/s\u001b[0m eta \u001b[36m0:00:00\u001b[0m\n",
            "\u001b[?25hInstalling collected packages: numpy\n",
            "  Attempting uninstall: numpy\n",
            "    Found existing installation: numpy 1.26.4\n",
            "    Uninstalling numpy-1.26.4:\n",
            "      Successfully uninstalled numpy-1.26.4\n",
            "\u001b[31mERROR: pip's dependency resolver does not currently take into account all the packages that are installed. This behaviour is the source of the following dependency conflicts.\n",
            "albucore 0.0.19 requires numpy>=1.24.4, but you have numpy 1.23.5 which is incompatible.\n",
            "albumentations 1.4.20 requires numpy>=1.24.4, but you have numpy 1.23.5 which is incompatible.\n",
            "bigframes 1.25.0 requires numpy>=1.24.0, but you have numpy 1.23.5 which is incompatible.\n",
            "chex 0.1.87 requires numpy>=1.24.1, but you have numpy 1.23.5 which is incompatible.\n",
            "jax 0.4.33 requires numpy>=1.24, but you have numpy 1.23.5 which is incompatible.\n",
            "jaxlib 0.4.33 requires numpy>=1.24, but you have numpy 1.23.5 which is incompatible.\n",
            "xarray 2024.10.0 requires numpy>=1.24, but you have numpy 1.23.5 which is incompatible.\u001b[0m\u001b[31m\n",
            "\u001b[0mSuccessfully installed numpy-1.23.5\n"
          ]
        },
        {
          "data": {
            "application/vnd.colab-display-data+json": {
              "id": "8fe92bde2c09437d8c43c1912e13ad48",
              "pip_warning": {
                "packages": [
                  "numpy"
                ]
              }
            }
          },
          "metadata": {},
          "output_type": "display_data"
        }
      ],
      "source": [
        "!pip install numpy==1.23.5"
      ]
    },
    {
      "cell_type": "markdown",
      "metadata": {
        "id": "nstM04zAynHB"
      },
      "source": [
        "**Important:** restart the session"
      ]
    },
    {
      "cell_type": "code",
      "execution_count": 1,
      "metadata": {
        "id": "cN50fF8Dib-x"
      },
      "outputs": [],
      "source": [
        "import cv2\n",
        "from google.colab.patches import cv2_imshow\n",
        "from matplotlib import pyplot as plt"
      ]
    },
    {
      "cell_type": "code",
      "execution_count": 2,
      "metadata": {
        "colab": {
          "base_uri": "https://localhost:8080/"
        },
        "id": "wPcGaiyBkIVQ",
        "outputId": "5f735372-3be7-4f07-e1fe-8bddc0b64435"
      },
      "outputs": [
        {
          "name": "stdout",
          "output_type": "stream",
          "text": [
            "Cloning into 'SimSwap'...\n",
            "remote: Enumerating objects: 161, done.\u001b[K\n",
            "remote: Total 161 (delta 0), reused 0 (delta 0), pack-reused 161 (from 1)\u001b[K\n",
            "Receiving objects: 100% (161/161), 88.87 MiB | 26.98 MiB/s, done.\n",
            "Resolving deltas: 100% (11/11), done.\n"
          ]
        }
      ],
      "source": [
        "!git clone https://github.com/saurabhkumar9901/SimSwap.git"
      ]
    },
    {
      "cell_type": "code",
      "execution_count": 4,
      "metadata": {
        "colab": {
          "base_uri": "https://localhost:8080/"
        },
        "id": "hSXSzfs0kRa_",
        "outputId": "c3ac9581-1c73-4817-dd3a-16803f924ba5"
      },
      "outputs": [
        {
          "name": "stdout",
          "output_type": "stream",
          "text": [
            "/content/SimSwap\n"
          ]
        }
      ],
      "source": [
        "%cd SimSwap/"
      ]
    },
    {
      "cell_type": "code",
      "execution_count": 5,
      "metadata": {
        "colab": {
          "base_uri": "https://localhost:8080/"
        },
        "id": "BEVGXlqX68JD",
        "outputId": "72d25b8a-3155-4882-c567-30025c6a060f"
      },
      "outputs": [
        {
          "name": "stdout",
          "output_type": "stream",
          "text": [
            "Looking in indexes: https://download.pytorch.org/whl/cu118\n",
            "Requirement already satisfied: torch in /usr/local/lib/python3.10/dist-packages (2.5.0+cu121)\n",
            "Requirement already satisfied: torchvision in /usr/local/lib/python3.10/dist-packages (0.20.0+cu121)\n",
            "Requirement already satisfied: torchaudio in /usr/local/lib/python3.10/dist-packages (2.5.0+cu121)\n",
            "Requirement already satisfied: filelock in /usr/local/lib/python3.10/dist-packages (from torch) (3.16.1)\n",
            "Requirement already satisfied: typing-extensions>=4.8.0 in /usr/local/lib/python3.10/dist-packages (from torch) (4.12.2)\n",
            "Requirement already satisfied: networkx in /usr/local/lib/python3.10/dist-packages (from torch) (3.4.2)\n",
            "Requirement already satisfied: jinja2 in /usr/local/lib/python3.10/dist-packages (from torch) (3.1.4)\n",
            "Requirement already satisfied: fsspec in /usr/local/lib/python3.10/dist-packages (from torch) (2024.10.0)\n",
            "Requirement already satisfied: sympy==1.13.1 in /usr/local/lib/python3.10/dist-packages (from torch) (1.13.1)\n",
            "Requirement already satisfied: mpmath<1.4,>=1.1.0 in /usr/local/lib/python3.10/dist-packages (from sympy==1.13.1->torch) (1.3.0)\n",
            "Requirement already satisfied: numpy in /usr/local/lib/python3.10/dist-packages (from torchvision) (1.23.5)\n",
            "Requirement already satisfied: pillow!=8.3.*,>=5.3.0 in /usr/local/lib/python3.10/dist-packages (from torchvision) (10.4.0)\n",
            "Requirement already satisfied: MarkupSafe>=2.0 in /usr/local/lib/python3.10/dist-packages (from jinja2->torch) (3.0.2)\n"
          ]
        }
      ],
      "source": [
        "!pip3 install torch torchvision torchaudio --index-url https://download.pytorch.org/whl/cu118"
      ]
    },
    {
      "cell_type": "code",
      "execution_count": 6,
      "metadata": {
        "id": "kIXho9IakXd2"
      },
      "outputs": [],
      "source": [
        "!pip install insightface==0.2.1 onnxruntime moviepy > /dev/null\n",
        "!pip install imageio > /dev/null\n",
        "!pip install googledrivedownloader > /dev/null"
      ]
    },
    {
      "cell_type": "markdown",
      "metadata": {
        "id": "wS-ZiPfS2wIr"
      },
      "source": [
        "## Loading the pretrained model"
      ]
    },
    {
      "cell_type": "code",
      "execution_count": 7,
      "metadata": {
        "colab": {
          "base_uri": "https://localhost:8080/"
        },
        "id": "aKEAT3yngtU7",
        "outputId": "88ae9683-ec7b-4f4d-bd6a-c2f461156043"
      },
      "outputs": [
        {
          "name": "stdout",
          "output_type": "stream",
          "text": [
            "Downloading...\n",
            "From (original): https://drive.google.com/uc?id=1sYbGp0nb34BE7_8ElmkxYf0wdE4jaqFC\n",
            "From (redirected): https://drive.google.com/uc?id=1sYbGp0nb34BE7_8ElmkxYf0wdE4jaqFC&confirm=t&uuid=ea18e481-e8b7-4c29-938d-4dc519d21bce\n",
            "To: /content/SimSwap/arcface_checkpoint.tar\n",
            "100% 209M/209M [00:05<00:00, 39.1MB/s]\n",
            "Downloading...\n",
            "From (original): https://drive.google.com/uc?id=1qfOUiZzYSnT0Uma52MW8lGu8riAN0wAb\n",
            "From (redirected): https://drive.google.com/uc?id=1qfOUiZzYSnT0Uma52MW8lGu8riAN0wAb&confirm=t&uuid=b2b81e22-f7f8-4863-87f9-a49304768f88\n",
            "To: /content/SimSwap/checkpoints.zip\n",
            "100% 256M/256M [00:06<00:00, 41.5MB/s]\n",
            "Downloading...\n",
            "From (original): https://drive.google.com/uc?id=1zm7rMfCehkDONPbS4OMxqcRW0UPEvDKH\n",
            "From (redirected): https://drive.google.com/uc?id=1zm7rMfCehkDONPbS4OMxqcRW0UPEvDKH&confirm=t&uuid=dc2a501c-243c-4aff-afd1-288a7c9063fc\n",
            "To: /content/SimSwap/512.zip\n",
            "100% 283M/283M [00:09<00:00, 30.5MB/s]\n",
            "Downloading...\n",
            "From: https://drive.google.com/uc?id=11Wcu8nSrOk4BNNZY7t0QHbF5htGNocov\n",
            "To: /content/SimSwap/79999.pth\n",
            "100% 53.3M/53.3M [00:01<00:00, 28.7MB/s]\n",
            "Downloading...\n",
            "From (original): https://drive.google.com/uc?id=1EDnVcMSkFGEfwp0TdEjcyF55dnGQm8b1\n",
            "From (redirected): https://drive.google.com/uc?id=1EDnVcMSkFGEfwp0TdEjcyF55dnGQm8b1&confirm=t&uuid=f3ce9e99-d5cf-42ab-a0a6-f0f2449c88d6\n",
            "To: /content/SimSwap/antelope.zip\n",
            "100% 248M/248M [00:07<00:00, 33.1MB/s]\n"
          ]
        }
      ],
      "source": [
        "!gdown $'1sYbGp0nb34BE7_8ElmkxYf0wdE4jaqFC' -O $'arcface_checkpoint.tar'\n",
        "!gdown $'1qfOUiZzYSnT0Uma52MW8lGu8riAN0wAb' -O $'checkpoints.zip'\n",
        "!gdown $'1zm7rMfCehkDONPbS4OMxqcRW0UPEvDKH' -O $'512.zip'\n",
        "!gdown $'11Wcu8nSrOk4BNNZY7t0QHbF5htGNocov' -O $'79999_iter.pth'\n",
        "!gdown $'1EDnVcMSkFGEfwp0TdEjcyF55dnGQm8b1' -O $'antelope.zip'"
      ]
    },
    {
      "cell_type": "code",
      "execution_count": 8,
      "metadata": {
        "colab": {
          "base_uri": "https://localhost:8080/"
        },
        "id": "O2vPXYx7l68_",
        "outputId": "c75f0ad6-e141-4814-f5bc-324e9a275cf9"
      },
      "outputs": [
        {
          "name": "stdout",
          "output_type": "stream",
          "text": [
            "Archive:  ./checkpoints.zip\n",
            "   creating: ./checkpoints/people/\n",
            "  inflating: ./checkpoints/people/iter.txt  \n",
            "  inflating: ./checkpoints/people/latest_net_D1.pth  \n",
            "  inflating: ./checkpoints/people/latest_net_D2.pth  \n",
            "  inflating: ./checkpoints/people/latest_net_G.pth  \n",
            "  inflating: ./checkpoints/people/loss_log.txt  \n",
            "  inflating: ./checkpoints/people/opt.txt  \n",
            "   creating: ./checkpoints/people/web/\n",
            "   creating: ./checkpoints/people/web/images/\n",
            "Archive:  512.zip\n",
            "  inflating: ./checkpoints/512/550000_net_G.pth  \n",
            "Archive:  antelope.zip\n",
            "   creating: ./insightface_func/models/antelope/\n",
            "  inflating: ./insightface_func/models/antelope/glintr100.onnx  \n",
            "  inflating: ./insightface_func/models/antelope/scrfd_10g_bnkps.onnx  \n"
          ]
        }
      ],
      "source": [
        "!unzip ./checkpoints.zip -d ./checkpoints\n",
        "!unzip 512.zip -d ./checkpoints\n",
        "!unzip antelope.zip -d ./insightface_func/models/"
      ]
    },
    {
      "cell_type": "markdown",
      "metadata": {
        "id": "epV7CpM83zxv"
      },
      "source": [
        "## Loading the images\n",
        "\n",
        "1. image A (input - source) - copy the face\n",
        "2. video B (output - target) - paste the face"
      ]
    },
    {
      "cell_type": "code",
      "execution_count": 9,
      "metadata": {
        "id": "En8m2djvU3xU"
      },
      "outputs": [],
      "source": [
        "!mv /content/image.jpg /content/SimSwap/demo_file/image.jpg\n",
        "!mv /content/video.mp4 /content/SimSwap/demo_file/video.mp4"
      ]
    },
    {
      "cell_type": "code",
      "execution_count": 10,
      "metadata": {
        "id": "M7cnsC7QnVtb"
      },
      "outputs": [],
      "source": [
        "img_A = '/content/SimSwap/demo_file/image.jpg'\n",
        "vid_B = '/content/SimSwap/demo_file/video.mp4'"
      ]
    },
    {
      "cell_type": "code",
      "execution_count": 17,
      "metadata": {
        "colab": {
          "base_uri": "https://localhost:8080/"
        },
        "id": "Dx3X7oAFp25x",
        "outputId": "c9831b9a-5dee-4aa0-fde4-a3b612e22464"
      },
      "outputs": [
        {
          "name": "stdout",
          "output_type": "stream",
          "text": [
            "mkdir: cannot create directory ‘/content/SimSwap/arcface_model’: File exists\n",
            "mkdir: cannot create directory ‘/content/SimSwap/parsing_model/checkpoint’: File exists\n",
            "mv: cannot stat '/content/SimSwap/arcface_checkpoint.tar': No such file or directory\n",
            "mv: cannot stat '/content/SimSwap/79999_iter.pth': No such file or directory\n"
          ]
        }
      ],
      "source": [
        "%mkdir -p /content/SimSwap/arcface_model\n",
        "%mkdir -p /content/SimSwap/parsing_model/checkpoint\n",
        "\n",
        "!mv /content/SimSwap/arcface_checkpoint.tar /content/SimSwap/arcface_model\n",
        "!mv /content/SimSwap/79999_iter.pth /content/SimSwap/parsing_model/checkpoint"
      ]
    },
    {
      "cell_type": "markdown",
      "metadata": {
        "id": "J0EutXIA8TNW"
      },
      "source": [
        "## Training"
      ]
    },
    {
      "cell_type": "code",
      "execution_count": 11,
      "metadata": {
        "id": "7QyzjUJRXp09"
      },
      "outputs": [],
      "source": [
        "results = '/content/SimSwap/results.mp4'"
      ]
    },
    {
      "cell_type": "markdown",
      "metadata": {
        "id": "lsHf2F_N9usm"
      },
      "source": [
        "Parameters\n",
        "\n",
        "`--use_mask` - more realism ([ref](https://github.com/neuralchen/SimSwap/blob/main/test_wholeimage_swapmulti.py#L96))\n",
        "\n",
        "`--crop_size` - input size that depends on the dimensions of the images\n",
        "\n",
        "`--Arc_path` - path to the model that calculates the similarity between faces\n",
        "\n",
        "`--pic_a_path` - path to image A (*input*)\n",
        "\n",
        "`--pic_b_path` - path to image B (*output*)\n",
        "\n",
        "`--output_path` - path to the folder where the results will be saved\n",
        "\n",
        "`--no_simswaplogo` - no watermark in the result"
      ]
    },
    {
      "cell_type": "code",
      "execution_count": 18,
      "metadata": {
        "colab": {
          "base_uri": "https://localhost:8080/"
        },
        "id": "W_tArubhqF64",
        "outputId": "31fd5f82-47c4-4ad3-8c84-e75c5071f91f"
      },
      "outputs": [
        {
          "name": "stdout",
          "output_type": "stream",
          "text": [
            "error: XDG_RUNTIME_DIR not set in the environment.\n",
            "ALSA lib confmisc.c:855:(parse_card) cannot find card '0'\n",
            "ALSA lib conf.c:5178:(_snd_config_evaluate) function snd_func_card_inum returned error: No such file or directory\n",
            "ALSA lib confmisc.c:422:(snd_func_concat) error evaluating strings\n",
            "ALSA lib conf.c:5178:(_snd_config_evaluate) function snd_func_concat returned error: No such file or directory\n",
            "ALSA lib confmisc.c:1334:(snd_func_refer) error evaluating name\n",
            "ALSA lib conf.c:5178:(_snd_config_evaluate) function snd_func_refer returned error: No such file or directory\n",
            "ALSA lib conf.c:5701:(snd_config_expand) Evaluate error: No such file or directory\n",
            "ALSA lib pcm.c:2664:(snd_pcm_open_noupdate) Unknown PCM default\n",
            "ALSA lib confmisc.c:855:(parse_card) cannot find card '0'\n",
            "ALSA lib conf.c:5178:(_snd_config_evaluate) function snd_func_card_inum returned error: No such file or directory\n",
            "ALSA lib confmisc.c:422:(snd_func_concat) error evaluating strings\n",
            "ALSA lib conf.c:5178:(_snd_config_evaluate) function snd_func_concat returned error: No such file or directory\n",
            "ALSA lib confmisc.c:1334:(snd_func_refer) error evaluating name\n",
            "ALSA lib conf.c:5178:(_snd_config_evaluate) function snd_func_refer returned error: No such file or directory\n",
            "ALSA lib conf.c:5701:(snd_config_expand) Evaluate error: No such file or directory\n",
            "ALSA lib pcm.c:2664:(snd_pcm_open_noupdate) Unknown PCM default\n",
            "------------ Options -------------\n",
            "Arc_path: arcface_model/arcface_checkpoint.tar\n",
            "aspect_ratio: 1.0\n",
            "batchSize: 8\n",
            "checkpoints_dir: ./checkpoints\n",
            "cluster_path: features_clustered_010.npy\n",
            "crop_size: 224\n",
            "data_type: 32\n",
            "dataroot: ./datasets/cityscapes/\n",
            "display_winsize: 512\n",
            "engine: None\n",
            "export_onnx: None\n",
            "feat_num: 3\n",
            "fineSize: 512\n",
            "fp16: False\n",
            "gpu_ids: [0]\n",
            "how_many: 50\n",
            "id_thres: 0.03\n",
            "image_size: 224\n",
            "input_nc: 3\n",
            "instance_feat: False\n",
            "isTrain: False\n",
            "label_feat: False\n",
            "label_nc: 0\n",
            "latent_size: 512\n",
            "loadSize: 1024\n",
            "load_features: False\n",
            "local_rank: 0\n",
            "max_dataset_size: inf\n",
            "multisepcific_dir: ./demo_file/multispecific\n",
            "nThreads: 2\n",
            "n_blocks_global: 6\n",
            "n_blocks_local: 3\n",
            "n_clusters: 10\n",
            "n_downsample_E: 4\n",
            "n_downsample_global: 3\n",
            "n_local_enhancers: 1\n",
            "name: people\n",
            "nef: 16\n",
            "netG: global\n",
            "ngf: 64\n",
            "niter_fix_global: 0\n",
            "no_flip: False\n",
            "no_instance: False\n",
            "no_simswaplogo: True\n",
            "norm: batch\n",
            "norm_G: spectralspadesyncbatch3x3\n",
            "ntest: inf\n",
            "onnx: None\n",
            "output_nc: 3\n",
            "output_path: /content/SimSwap/results.mp4\n",
            "phase: test\n",
            "pic_a_path: /content/SimSwap/demo_file/image.jpg\n",
            "pic_b_path: ./demo_file/multi_people.jpg\n",
            "pic_specific_path: ./crop_224/zrf.jpg\n",
            "resize_or_crop: scale_width\n",
            "results_dir: ./results/\n",
            "semantic_nc: 3\n",
            "serial_batches: False\n",
            "temp_path: ./temp_results\n",
            "tf_log: False\n",
            "use_dropout: False\n",
            "use_encoded_image: False\n",
            "use_mask: True\n",
            "verbose: False\n",
            "video_path: /content/SimSwap/demo_file/video.mp4\n",
            "which_epoch: latest\n",
            "-------------- End ----------------\n",
            "input mean and std: 127.5 127.5\n",
            "find model: ./insightface_func/models/antelope/glintr100.onnx recognition\n",
            "find model: ./insightface_func/models/antelope/scrfd_10g_bnkps.onnx detection\n",
            "set det-size: (640, 640)\n",
            "(142, 366, 4)\n",
            "100% 899/899 [08:45<00:00,  1.71it/s]\n",
            "Moviepy - Building video /content/SimSwap/results.mp4.\n",
            "MoviePy - Writing audio in resultsTEMP_MPY_wvf_snd.mp4\n",
            "MoviePy - Done.\n",
            "Moviepy - Writing video /content/SimSwap/results.mp4\n",
            "\n",
            "Moviepy - Done !\n",
            "Moviepy - video ready /content/SimSwap/results.mp4\n"
          ]
        }
      ],
      "source": [
        "!python test_video_swapsingle.py --use_mask --crop_size 224 --isTrain false --name people \\\n",
        "--Arc_path arcface_model/arcface_checkpoint.tar --pic_a_path {img_A} --video_path {vid_B} \\\n",
        "--output_path {results} --no_simswaplogo"
      ]
    },
    {
      "cell_type": "markdown",
      "metadata": {
        "id": "oo976WBa7Qmc"
      },
      "source": [
        "> Comments:\n",
        "\n",
        "* It is recommended to use input images where the face is centered and sharp, with good quality.\n",
        "\n",
        "* If the dimensions are different, it is recommended to resize the image to a smaller size."
      ]
    },
    {
      "cell_type": "markdown",
      "metadata": {
        "id": "qoJ34md-tlmX"
      },
      "source": [
        "---\n",
        "\n",
        "Based on:\n",
        "\n",
        "* https://github.com/neuralchen/SimSwap\n",
        "\n",
        "Training a custom model:\n",
        "* https://github.com/neuralchen/SimSwap/blob/main/train.ipynb"
      ]
    }
  ],
  "metadata": {
    "accelerator": "GPU",
    "colab": {
      "gpuType": "T4",
      "provenance": []
    },
    "kernelspec": {
      "display_name": "Python 3",
      "name": "python3"
    },
    "language_info": {
      "name": "python"
    }
  },
  "nbformat": 4,
  "nbformat_minor": 0
}
